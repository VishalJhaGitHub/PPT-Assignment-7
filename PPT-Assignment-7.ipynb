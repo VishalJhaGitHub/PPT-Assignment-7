{
 "cells": [
  {
   "cell_type": "code",
   "execution_count": 1,
   "id": "4c8a25a0-416f-4355-8657-ecbd33dc752b",
   "metadata": {},
   "outputs": [
    {
     "name": "stdout",
     "output_type": "stream",
     "text": [
      "True\n"
     ]
    }
   ],
   "source": [
    "#1. Given two strings s and t, determine if they are isomorphic.\n",
    "\n",
    "#Two strings s and t are isomorphic if the characters in s can be replaced to get t.\n",
    "\n",
    "#All occurrences of a character must be replaced with another character while preserving the order of characters. No two characters may map to the same character, but a character may map to itself.\n",
    "\n",
    "#Example 1:\n",
    "\n",
    "#Input: s = \"egg\", t = \"add\"\n",
    "\n",
    "#Output: true\n",
    "\n",
    "#Ans\n",
    "\n",
    "def is_isomorphic(s, t):\n",
    "    if len(s) != len(t):\n",
    "        return False\n",
    "    \n",
    "    s_to_t = {}\n",
    "    t_to_s = {}\n",
    "    \n",
    "    for i in range(len(s)):\n",
    "        s_char, t_char = s[i], t[i]\n",
    "        \n",
    "        if s_char in s_to_t and s_to_t[s_char] != t_char:\n",
    "            return False\n",
    "        \n",
    "        if t_char in t_to_s and t_to_s[t_char] != s_char:\n",
    "            return False\n",
    "        \n",
    "        s_to_t[s_char] = t_char\n",
    "        t_to_s[t_char] = s_char\n",
    "        \n",
    "    return True\n",
    "\n",
    "# Example usage:\n",
    "s = \"egg\"\n",
    "t = \"add\"\n",
    "print(is_isomorphic(s, t))"
   ]
  },
  {
   "cell_type": "code",
   "execution_count": 2,
   "id": "91b1764a-2c6c-4273-9e8c-1b2002315c3d",
   "metadata": {},
   "outputs": [
    {
     "name": "stdout",
     "output_type": "stream",
     "text": [
      "True\n"
     ]
    }
   ],
   "source": [
    "#2. Given a string num which represents an integer, return true if* num is a strobogrammatic number.\n",
    "\n",
    "#A strobogrammatic number is a number that looks the same when rotated 180 degrees (looked at upside down).\n",
    "\n",
    "#Example 1:\n",
    "\n",
    "#Input: num = \"69\"\n",
    "\n",
    "#Output: true \n",
    "\n",
    "#Ans\n",
    "\n",
    "def is_strobogrammatic(num):\n",
    "    strobogrammatic_map = {'0': '0', '1': '1', '6': '9', '8': '8', '9': '6'}\n",
    "    \n",
    "    left, right = 0, len(num) - 1\n",
    "    \n",
    "    while left <= right:\n",
    "        if num[left] not in strobogrammatic_map or num[right] != strobogrammatic_map[num[left]]:\n",
    "            return False\n",
    "        left += 1\n",
    "        right -= 1\n",
    "        \n",
    "    return True\n",
    "\n",
    "# Example usage:\n",
    "num = \"69\"\n",
    "print(is_strobogrammatic(num))"
   ]
  },
  {
   "cell_type": "code",
   "execution_count": 3,
   "id": "e1d38116-9863-41fe-8552-f85a25d85f26",
   "metadata": {},
   "outputs": [
    {
     "name": "stdout",
     "output_type": "stream",
     "text": [
      "134\n"
     ]
    }
   ],
   "source": [
    "#3. Given two non-negative integers, num1 and num2 represented as string, return the sum of num1 and num2 as a string.\n",
    "\n",
    "#You must solve the problem without using any built-in library for handling large integers (such as BigInteger). You must also not convert the inputs to integers directly.\n",
    "\n",
    "#Example 1:\n",
    "\n",
    "#Input: num1 = \"11\", num2 = \"123\"\n",
    "\n",
    "#Output: \"134\"\n",
    "\n",
    "#Ans\n",
    "\n",
    "def add_strings(num1, num2):\n",
    "    result = []\n",
    "    carry = 0\n",
    "    i, j = len(num1) - 1, len(num2) - 1\n",
    "    \n",
    "    while i >= 0 or j >= 0 or carry > 0:\n",
    "        digit_sum = carry\n",
    "        \n",
    "        if i >= 0:\n",
    "            digit_sum += int(num1[i])\n",
    "            i -= 1\n",
    "        \n",
    "        if j >= 0:\n",
    "            digit_sum += int(num2[j])\n",
    "            j -= 1\n",
    "        \n",
    "        result.append(str(digit_sum % 10))\n",
    "        carry = digit_sum // 10\n",
    "        \n",
    "    return ''.join(result[::-1])\n",
    "\n",
    "# Example usage:\n",
    "num1 = \"11\"\n",
    "num2 = \"123\"\n",
    "print(add_strings(num1, num2))"
   ]
  },
  {
   "cell_type": "code",
   "execution_count": 4,
   "id": "aea9419a-59ba-4d9f-9511-a23e0c623cfd",
   "metadata": {},
   "outputs": [
    {
     "name": "stdout",
     "output_type": "stream",
     "text": [
      "s'teL ekat edoCteeL tsetnoc\n"
     ]
    }
   ],
   "source": [
    "#4. Given a string s, reverse the order of characters in each word within a sentence while still preserving whitespace and initial word order.\n",
    "\n",
    "#Example 1:\n",
    "\n",
    "#Input: s = \"Let's take LeetCode contest\"\n",
    "\n",
    "#Output: \"s'teL ekat edoCteeL tsetnoc\"\n",
    "\n",
    "#Ans\n",
    "\n",
    "def reverse_words_in_sentence(s):\n",
    "    words = s.split()\n",
    "    reversed_words = [word[::-1] for word in words]\n",
    "    return ' '.join(reversed_words)\n",
    "\n",
    "# Example usage:\n",
    "s = \"Let's take LeetCode contest\"\n",
    "print(reverse_words_in_sentence(s))"
   ]
  },
  {
   "cell_type": "code",
   "execution_count": 5,
   "id": "d88b37ac-bf53-4746-a00f-bdec64ad9081",
   "metadata": {},
   "outputs": [
    {
     "name": "stdout",
     "output_type": "stream",
     "text": [
      "bacdfeg\n"
     ]
    }
   ],
   "source": [
    "#5. Given a string s and an integer k, reverse the first k characters for every 2k characters counting from the start of the string.\n",
    "\n",
    "#If there are fewer than k characters left, reverse all of them. If there are less than 2k but greater than or equal to k characters, then reverse the first k characters and leave the other as original.\n",
    "\n",
    "#Example 1:\n",
    "\n",
    "#Input: s = \"abcdefg\", k = 2\n",
    "\n",
    "#Output: \"bacdfeg\"\n",
    "\n",
    "#Ans\n",
    "\n",
    "def reverse_k_group(s, k):\n",
    "    n = len(s)\n",
    "    result = []\n",
    "    i = 0\n",
    "\n",
    "    while i < n:\n",
    "        segment = s[i:i + 2 * k]\n",
    "        reversed_segment = segment[:k][::-1] + segment[k:]\n",
    "        result.append(reversed_segment)\n",
    "        i += 2 * k\n",
    "\n",
    "    return ''.join(result)\n",
    "\n",
    "# Example usage:\n",
    "s = \"abcdefg\"\n",
    "k = 2\n",
    "print(reverse_k_group(s, k))"
   ]
  },
  {
   "cell_type": "code",
   "execution_count": 6,
   "id": "f036d74e-0fa2-4620-b9dd-531a7ba3847c",
   "metadata": {},
   "outputs": [
    {
     "name": "stdout",
     "output_type": "stream",
     "text": [
      "True\n"
     ]
    }
   ],
   "source": [
    "#6. Given two strings s and goal, return true if and only if s can become goal after some number of shifts on s.\n",
    "\n",
    "#A shift on s consists of moving the leftmost character of s to the rightmost position.\n",
    "\n",
    "#For example, if s = \"abcde\", then it will be \"bcdea\" after one shift.\n",
    "\n",
    "#Example 1:\n",
    "\n",
    "#Input: s = \"abcde\", goal = \"cdeab\"\n",
    "\n",
    "#Output: true\n",
    "\n",
    "#Ans\n",
    "\n",
    "def is_rotation(s, goal):\n",
    "    if len(s) != len(goal):\n",
    "        return False\n",
    "\n",
    "    double_s = s + s\n",
    "    return goal in double_s\n",
    "\n",
    "# Example usage:\n",
    "s = \"abcde\"\n",
    "goal = \"cdeab\"\n",
    "print(is_rotation(s, goal))"
   ]
  },
  {
   "cell_type": "code",
   "execution_count": 7,
   "id": "280af0e3-24fb-43d4-a5fe-01b407b4c2ec",
   "metadata": {},
   "outputs": [
    {
     "name": "stdout",
     "output_type": "stream",
     "text": [
      "True\n"
     ]
    }
   ],
   "source": [
    "#7. Given two strings s and t, return true *if they are equal when both are typed into empty text editors. '#' means a backspace character.\n",
    "\n",
    "#Note that after backspacing an empty text, the text will continue empty.\n",
    "\n",
    "#Example 1:\n",
    "\n",
    "#Input: s = \"ab#c\", t = \"ad#c\"\n",
    "\n",
    "#Output: true\n",
    "\n",
    "#Explanation: Both s and t become \"ac\".\n",
    "\n",
    "#Ans\n",
    "\n",
    "def backspace_compare(s, t):\n",
    "    def apply_backspace(string):\n",
    "        stack = []\n",
    "        for char in string:\n",
    "            if char != '#':\n",
    "                stack.append(char)\n",
    "            elif stack:\n",
    "                stack.pop()\n",
    "        return ''.join(stack)\n",
    "\n",
    "    return apply_backspace(s) == apply_backspace(t)\n",
    "\n",
    "# Example usage:\n",
    "s = \"ab#c\"\n",
    "t = \"ad#c\"\n",
    "print(backspace_compare(s, t))"
   ]
  },
  {
   "cell_type": "code",
   "execution_count": 8,
   "id": "542bd25d-5099-432d-87e3-66df2585e6be",
   "metadata": {},
   "outputs": [
    {
     "name": "stdout",
     "output_type": "stream",
     "text": [
      "True\n"
     ]
    }
   ],
   "source": [
    "#8. You are given an array coordinates, coordinates[i] = [x, y], where [x, y] represents the coordinate of a point. Check if these points make a straight line in the XY plane.\n",
    "\n",
    "#Example 1:\n",
    "    \n",
    "#https://pwskills.notion.site/image/https%3A%2F%2Fs3-us-west-2.amazonaws.com%2Fsecure.notion-static.com%2F012b0a97-4e4b-49b6-bc95-0531fc712978%2FScreenshot_2023-05-29_010117.png?id=1f71c976-b182-4892-a3ca-400a0d911ea3&table=block&spaceId=6fae2e0f-dedc-48e9-bc59-af2654c78209&width=930&userId=&cache=v2\n",
    "\n",
    "#Input: coordinates = [[1,2],[2,3],[3,4],[4,5],[5,6],[6,7]]\n",
    "\n",
    "#Output: true\n",
    "\n",
    "#Ans\n",
    "\n",
    "def check_straight_line(coordinates):\n",
    "    if len(coordinates) <= 2:\n",
    "        return True\n",
    "\n",
    "    def slope(p1, p2):\n",
    "        return (p2[1] - p1[1]) / (p2[0] - p1[0]) if p2[0] - p1[0] != 0 else float('inf')\n",
    "\n",
    "    initial_slope = slope(coordinates[0], coordinates[1])\n",
    "\n",
    "    for i in range(2, len(coordinates)):\n",
    "        current_slope = slope(coordinates[i-1], coordinates[i])\n",
    "        if current_slope != initial_slope:\n",
    "            return False\n",
    "\n",
    "    return True\n",
    "\n",
    "# Example usage:\n",
    "coordinates = [[1, 2], [2, 3], [3, 4], [4, 5], [5, 6], [6, 7]]\n",
    "print(check_straight_line(coordinates))"
   ]
  },
  {
   "cell_type": "code",
   "execution_count": null,
   "id": "d62fd226-3216-423b-abb9-3e6a45298163",
   "metadata": {},
   "outputs": [],
   "source": []
  }
 ],
 "metadata": {
  "kernelspec": {
   "display_name": "Python 3 (ipykernel)",
   "language": "python",
   "name": "python3"
  },
  "language_info": {
   "codemirror_mode": {
    "name": "ipython",
    "version": 3
   },
   "file_extension": ".py",
   "mimetype": "text/x-python",
   "name": "python",
   "nbconvert_exporter": "python",
   "pygments_lexer": "ipython3",
   "version": "3.10.9"
  }
 },
 "nbformat": 4,
 "nbformat_minor": 5
}
